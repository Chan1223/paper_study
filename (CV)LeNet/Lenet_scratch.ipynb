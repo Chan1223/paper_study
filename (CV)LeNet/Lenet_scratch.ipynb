{
 "cells": [
  {
   "cell_type": "code",
   "execution_count": 1,
   "metadata": {},
   "outputs": [],
   "source": [
    "# torch\n",
    "import torch\n",
    "import torch.nn as nn\n",
    "import torch.nn.functional as F\n",
    "\n",
    "# torch vision\n",
    "from torchvision.datasets import MNIST\n",
    "from torchvision.transforms import transforms\n",
    "\n",
    "# data loader\n",
    "from torch.utils.data.dataloader import DataLoader\n",
    "\n",
    "# 옵티마이저\n",
    "from torch.optim import optimizer"
   ]
  },
  {
   "cell_type": "code",
   "execution_count": 2,
   "metadata": {},
   "outputs": [],
   "source": [
    "path = '/home/helpme/MNIST'"
   ]
  },
  {
   "cell_type": "code",
   "execution_count": 3,
   "metadata": {},
   "outputs": [],
   "source": [
    "data_transform = transforms.Compose([\n",
    "    transforms.Resize((32, 32)),\n",
    "    transforms.ToTensor(),\n",
    "])"
   ]
  },
  {
   "cell_type": "code",
   "execution_count": 6,
   "metadata": {},
   "outputs": [
    {
     "name": "stdout",
     "output_type": "stream",
     "text": [
      "Downloading http://yann.lecun.com/exdb/mnist/train-images-idx3-ubyte.gz\n",
      "Downloading http://yann.lecun.com/exdb/mnist/train-images-idx3-ubyte.gz to /home/helpme/MNIST/MNIST/raw/train-images-idx3-ubyte.gz\n"
     ]
    },
    {
     "name": "stderr",
     "output_type": "stream",
     "text": [
      "100.0%\n"
     ]
    },
    {
     "name": "stdout",
     "output_type": "stream",
     "text": [
      "Extracting /home/helpme/MNIST/MNIST/raw/train-images-idx3-ubyte.gz to /home/helpme/MNIST/MNIST/raw\n",
      "\n",
      "Downloading http://yann.lecun.com/exdb/mnist/train-labels-idx1-ubyte.gz\n",
      "Downloading http://yann.lecun.com/exdb/mnist/train-labels-idx1-ubyte.gz to /home/helpme/MNIST/MNIST/raw/train-labels-idx1-ubyte.gz\n"
     ]
    },
    {
     "name": "stderr",
     "output_type": "stream",
     "text": [
      "100.0%\n",
      "2.0%"
     ]
    },
    {
     "name": "stdout",
     "output_type": "stream",
     "text": [
      "Extracting /home/helpme/MNIST/MNIST/raw/train-labels-idx1-ubyte.gz to /home/helpme/MNIST/MNIST/raw\n",
      "\n",
      "Downloading http://yann.lecun.com/exdb/mnist/t10k-images-idx3-ubyte.gz\n",
      "Downloading http://yann.lecun.com/exdb/mnist/t10k-images-idx3-ubyte.gz to /home/helpme/MNIST/MNIST/raw/t10k-images-idx3-ubyte.gz\n"
     ]
    },
    {
     "name": "stderr",
     "output_type": "stream",
     "text": [
      "100.0%\n"
     ]
    },
    {
     "name": "stdout",
     "output_type": "stream",
     "text": [
      "Extracting /home/helpme/MNIST/MNIST/raw/t10k-images-idx3-ubyte.gz to /home/helpme/MNIST/MNIST/raw\n",
      "\n",
      "Downloading http://yann.lecun.com/exdb/mnist/t10k-labels-idx1-ubyte.gz\n",
      "Downloading http://yann.lecun.com/exdb/mnist/t10k-labels-idx1-ubyte.gz to /home/helpme/MNIST/MNIST/raw/t10k-labels-idx1-ubyte.gz\n"
     ]
    },
    {
     "name": "stderr",
     "output_type": "stream",
     "text": [
      "100.0%"
     ]
    },
    {
     "name": "stdout",
     "output_type": "stream",
     "text": [
      "Extracting /home/helpme/MNIST/MNIST/raw/t10k-labels-idx1-ubyte.gz to /home/helpme/MNIST/MNIST/raw\n",
      "\n"
     ]
    },
    {
     "name": "stderr",
     "output_type": "stream",
     "text": [
      "\n"
     ]
    }
   ],
   "source": [
    "training_data = MNIST(\n",
    "    root=path,\n",
    "    train=True,\n",
    "    download=True, \n",
    "    transform=data_transform\n",
    ")\n",
    "\n",
    "test_data = MNIST(\n",
    "    root=path,\n",
    "    train=False,\n",
    "    download=True,\n",
    "    transform=data_transform\n",
    ")\n"
   ]
  },
  {
   "cell_type": "code",
   "execution_count": 13,
   "metadata": {},
   "outputs": [],
   "source": [
    "batch_size = 16\n",
    "\n",
    "train_dataloader = DataLoader(training_data, batch_size=batch_size, shuffle=True)\n",
    "test_dataloader = DataLoader(test_data, batch_size=1, shuffle=False)"
   ]
  },
  {
   "cell_type": "code",
   "execution_count": 14,
   "metadata": {},
   "outputs": [
    {
     "name": "stdout",
     "output_type": "stream",
     "text": [
      "train 데이터 개수 :  3750\n",
      "test 데이터 개수 :  10000\n",
      "\n",
      "=========data shape=========\n",
      "Shape of x {N,C,H,W} torch.Size([1, 1, 32, 32])\n",
      "Shape of y: torch.Size([1]) torch.int64\n"
     ]
    }
   ],
   "source": [
    "print('train 데이터 개수 : ', len(train_dataloader))\n",
    "print('test 데이터 개수 : ', len(test_dataloader))\n",
    "print()\n",
    "print('=========data shape=========')\n",
    "\n",
    "for x,y in test_dataloader:    \n",
    "    print('Shape of x {N,C,H,W}',x.shape)\n",
    "    print('Shape of y:',y.shape,y.dtype)\n",
    "    break"
   ]
  },
  {
   "cell_type": "markdown",
   "metadata": {},
   "source": [
    "# 모델 만들기"
   ]
  },
  {
   "cell_type": "code",
   "execution_count": 17,
   "metadata": {},
   "outputs": [],
   "source": [
    "class LeNet(nn.Module):\n",
    "    def __init__(self):\n",
    "        super(LeNet, self).__init__()\n",
    "        self.conv1 = nn.Conv2d(in_channels=1, out_channels=6, kernel_size=5, stride=1, padding=0)\n",
    "        self.pool1 = nn.AvgPool2d(kernel_size=2, stride=2)\n",
    "\n",
    "        self.conv2 = nn.Conv2d(in_channels=6, out_channels=16, kernel_size=5, stride=1, padding=0)\n",
    "        self.pool2 = nn.AvgPool2d(kernel_size=2, stride=2)\n",
    "\n",
    "        self.conv3 = nn.Conv2d(in_channels=16, out_channels=120, kernel_size=5, stride=1, padding=0)\n",
    "\n",
    "        # fully connected \n",
    "        self.fc1 = nn.Linear(in_features=120, out_features=84)\n",
    "        self.fc2 = nn.Linear(in_features=84, out_features=10)\n",
    "\n",
    "    def forward(self, x):\n",
    "        x = torch.tanh(self.conv1(x))\n",
    "        x = self.pool1(x)\n",
    "\n",
    "        x = torch.tanh(self.conv2(x))\n",
    "        x = self.pool2(x)\n",
    "\n",
    "        x = torch.tanh(self.conv3(x))\n",
    "\n",
    "        x = x.view(-1, 120)  # flatten\n",
    "\n",
    "        x = torch.tanh(self.fc1(x)) # f1 \n",
    "        x = self.fc2(x)\n",
    "\n",
    "        return x"
   ]
  },
  {
   "cell_type": "code",
   "execution_count": 18,
   "metadata": {},
   "outputs": [],
   "source": [
    "model = LeNet()"
   ]
  },
  {
   "cell_type": "code",
   "execution_count": null,
   "metadata": {},
   "outputs": [],
   "source": [
    "# model = LeNet_with_sequential()\n"
   ]
  },
  {
   "cell_type": "code",
   "execution_count": 19,
   "metadata": {},
   "outputs": [
    {
     "name": "stdout",
     "output_type": "stream",
     "text": [
      "Using cuda device\n"
     ]
    }
   ],
   "source": [
    "device = 'cuda' if torch.cuda.is_available() else 'cpu'\n",
    "print(f'Using {device} device')"
   ]
  },
  {
   "cell_type": "code",
   "execution_count": 20,
   "metadata": {},
   "outputs": [
    {
     "data": {
      "text/plain": [
       "LeNet(\n",
       "  (conv1): Conv2d(1, 6, kernel_size=(5, 5), stride=(1, 1))\n",
       "  (pool1): AvgPool2d(kernel_size=2, stride=2, padding=0)\n",
       "  (conv2): Conv2d(6, 16, kernel_size=(5, 5), stride=(1, 1))\n",
       "  (pool2): AvgPool2d(kernel_size=2, stride=2, padding=0)\n",
       "  (conv3): Conv2d(16, 120, kernel_size=(5, 5), stride=(1, 1))\n",
       "  (fc1): Linear(in_features=120, out_features=84, bias=True)\n",
       "  (fc2): Linear(in_features=84, out_features=10, bias=True)\n",
       ")"
      ]
     },
     "execution_count": 20,
     "metadata": {},
     "output_type": "execute_result"
    }
   ],
   "source": [
    "model.to(device)"
   ]
  },
  {
   "cell_type": "code",
   "execution_count": 32,
   "metadata": {},
   "outputs": [
    {
     "name": "stdout",
     "output_type": "stream",
     "text": [
      "----------------------------------------------------------------\n",
      "        Layer (type)               Output Shape         Param #\n",
      "================================================================\n",
      "            Conv2d-1            [-1, 6, 28, 28]             156\n",
      "              Tanh-2            [-1, 6, 28, 28]               0\n",
      "         AvgPool2d-3            [-1, 6, 14, 14]               0\n",
      "            Conv2d-4           [-1, 16, 10, 10]           2,416\n",
      "              Tanh-5           [-1, 16, 10, 10]               0\n",
      "         AvgPool2d-6             [-1, 16, 5, 5]               0\n",
      "            Conv2d-7            [-1, 120, 1, 1]          48,120\n",
      "              Tanh-8            [-1, 120, 1, 1]               0\n",
      "            Linear-9                   [-1, 84]          10,164\n",
      "             Tanh-10                   [-1, 84]               0\n",
      "           Linear-11                   [-1, 10]             850\n",
      "================================================================\n",
      "Total params: 61,706\n",
      "Trainable params: 61,706\n",
      "Non-trainable params: 0\n",
      "----------------------------------------------------------------\n",
      "Input size (MB): 0.00\n",
      "Forward/backward pass size (MB): 0.11\n",
      "Params size (MB): 0.24\n",
      "Estimated Total Size (MB): 0.35\n",
      "----------------------------------------------------------------\n"
     ]
    }
   ],
   "source": [
    "# 없을 경우 !pip install torchsummary 먼저\n",
    "from torchsummary import summary\n",
    "summary(model, input_size=(1, 32, 32))"
   ]
  },
  {
   "cell_type": "code",
   "execution_count": 24,
   "metadata": {},
   "outputs": [],
   "source": [
    "class LeNet_sequential(nn.Module):\n",
    "    def __init__(self):\n",
    "        super(LeNet_sequential, self).__init__()\n",
    "        \n",
    "        self.layer1 = nn.Sequential(\n",
    "            nn.Conv2d(in_channels=1, out_channels=6, kernel_size=5, stride=1, padding=0),\n",
    "            nn.Tanh(),\n",
    "            nn.AvgPool2d(kernel_size=2, stride=2)\n",
    "        )\n",
    "        \n",
    "        \n",
    "        self.layer2 = nn.Sequential(\n",
    "            nn.Conv2d(in_channels=6, out_channels=16, kernel_size=5, stride=1, padding=0),\n",
    "            nn.Tanh(),\n",
    "            nn.AvgPool2d(kernel_size=2, stride=2)\n",
    "        )\n",
    "        \n",
    "\n",
    "        self.layer3 = nn.Sequential(\n",
    "            nn.Conv2d(in_channels=16, out_channels=120, kernel_size=5, stride=1, padding=0),\n",
    "            nn.Tanh()\n",
    "        )\n",
    "\n",
    "        # fully connected \n",
    "        self.layer4 = nn.Sequential(\n",
    "            nn.Linear(in_features=120, out_features=84),\n",
    "            nn.Tanh()\n",
    "        )\n",
    "\n",
    "\n",
    "        self.layer5 = nn.Sequential(\n",
    "            nn.Linear(in_features=84, out_features=10)\n",
    "        )\n",
    "\n",
    "    def forward(self, x):\n",
    "        x = self.layer1(x)\n",
    "        x = self.layer2(x)\n",
    "        x = self.layer3(x)\n",
    "\n",
    "        x = x.view(-1, 120)  # flatten\n",
    "\n",
    "        x = self.layer4(x)\n",
    "        x = self.layer5(x)\n",
    "        return x"
   ]
  },
  {
   "cell_type": "code",
   "execution_count": 26,
   "metadata": {},
   "outputs": [
    {
     "data": {
      "text/plain": [
       "LeNet_sequential(\n",
       "  (layer1): Sequential(\n",
       "    (0): Conv2d(1, 6, kernel_size=(5, 5), stride=(1, 1))\n",
       "    (1): Tanh()\n",
       "    (2): AvgPool2d(kernel_size=2, stride=2, padding=0)\n",
       "  )\n",
       "  (layer2): Sequential(\n",
       "    (0): Conv2d(6, 16, kernel_size=(5, 5), stride=(1, 1))\n",
       "    (1): Tanh()\n",
       "    (2): AvgPool2d(kernel_size=2, stride=2, padding=0)\n",
       "  )\n",
       "  (layer3): Sequential(\n",
       "    (0): Conv2d(16, 120, kernel_size=(5, 5), stride=(1, 1))\n",
       "    (1): Tanh()\n",
       "  )\n",
       "  (layer4): Sequential(\n",
       "    (0): Linear(in_features=120, out_features=84, bias=True)\n",
       "    (1): Tanh()\n",
       "  )\n",
       "  (layer5): Sequential(\n",
       "    (0): Linear(in_features=84, out_features=10, bias=True)\n",
       "  )\n",
       ")"
      ]
     },
     "execution_count": 26,
     "metadata": {},
     "output_type": "execute_result"
    }
   ],
   "source": [
    "model = LeNet_sequential()\n",
    "model.to(device)"
   ]
  },
  {
   "cell_type": "code",
   "execution_count": 27,
   "metadata": {},
   "outputs": [],
   "source": [
    "criterion = nn.CrossEntropyLoss()\n",
    "optimizer = torch.optim.SGD(model.parameters(), lr=0.01)"
   ]
  },
  {
   "cell_type": "code",
   "execution_count": 28,
   "metadata": {},
   "outputs": [
    {
     "data": {
      "text/plain": [
       "CrossEntropyLoss()"
      ]
     },
     "execution_count": 28,
     "metadata": {},
     "output_type": "execute_result"
    }
   ],
   "source": [
    "criterion.to(device=device)"
   ]
  },
  {
   "cell_type": "code",
   "execution_count": 29,
   "metadata": {},
   "outputs": [],
   "source": [
    "total_step = len(train_dataloader)"
   ]
  },
  {
   "cell_type": "code",
   "execution_count": 30,
   "metadata": {},
   "outputs": [
    {
     "data": {
      "text/plain": [
       "3750"
      ]
     },
     "execution_count": 30,
     "metadata": {},
     "output_type": "execute_result"
    }
   ],
   "source": [
    "total_step"
   ]
  },
  {
   "cell_type": "code",
   "execution_count": 31,
   "metadata": {},
   "outputs": [
    {
     "name": "stdout",
     "output_type": "stream",
     "text": [
      "Epoch [1/10], Step [400/3750], Loss: 2.2196\n",
      "Epoch [1/10], Step [800/3750], Loss: 0.5750\n",
      "Epoch [1/10], Step [1200/3750], Loss: 0.4547\n",
      "Epoch [1/10], Step [1600/3750], Loss: 0.3835\n",
      "Epoch [1/10], Step [2000/3750], Loss: 0.1585\n",
      "Epoch [1/10], Step [2400/3750], Loss: 0.2199\n",
      "Epoch [1/10], Step [2800/3750], Loss: 0.1096\n",
      "Epoch [1/10], Step [3200/3750], Loss: 0.2973\n",
      "Epoch [1/10], Step [3600/3750], Loss: 0.3271\n",
      "Epoch [2/10], Step [400/3750], Loss: 0.1980\n",
      "Epoch [2/10], Step [800/3750], Loss: 0.4779\n",
      "Epoch [2/10], Step [1200/3750], Loss: 0.1951\n",
      "Epoch [2/10], Step [1600/3750], Loss: 0.3992\n",
      "Epoch [2/10], Step [2000/3750], Loss: 0.4433\n",
      "Epoch [2/10], Step [2400/3750], Loss: 0.1628\n",
      "Epoch [2/10], Step [2800/3750], Loss: 0.0751\n",
      "Epoch [2/10], Step [3200/3750], Loss: 0.2202\n",
      "Epoch [2/10], Step [3600/3750], Loss: 0.1620\n",
      "Epoch [3/10], Step [400/3750], Loss: 0.0372\n",
      "Epoch [3/10], Step [800/3750], Loss: 0.0776\n",
      "Epoch [3/10], Step [1200/3750], Loss: 0.0649\n",
      "Epoch [3/10], Step [1600/3750], Loss: 0.1187\n",
      "Epoch [3/10], Step [2000/3750], Loss: 0.0656\n",
      "Epoch [3/10], Step [2400/3750], Loss: 0.0711\n",
      "Epoch [3/10], Step [2800/3750], Loss: 0.0208\n",
      "Epoch [3/10], Step [3200/3750], Loss: 0.1831\n",
      "Epoch [3/10], Step [3600/3750], Loss: 0.0717\n",
      "Epoch [4/10], Step [400/3750], Loss: 0.2026\n",
      "Epoch [4/10], Step [800/3750], Loss: 0.0604\n",
      "Epoch [4/10], Step [1200/3750], Loss: 0.3487\n",
      "Epoch [4/10], Step [1600/3750], Loss: 0.0192\n",
      "Epoch [4/10], Step [2000/3750], Loss: 0.0724\n",
      "Epoch [4/10], Step [2400/3750], Loss: 0.0346\n",
      "Epoch [4/10], Step [2800/3750], Loss: 0.0970\n",
      "Epoch [4/10], Step [3200/3750], Loss: 0.1361\n",
      "Epoch [4/10], Step [3600/3750], Loss: 0.0234\n",
      "Epoch [5/10], Step [400/3750], Loss: 0.0368\n",
      "Epoch [5/10], Step [800/3750], Loss: 0.2615\n",
      "Epoch [5/10], Step [1200/3750], Loss: 0.0195\n",
      "Epoch [5/10], Step [1600/3750], Loss: 0.0471\n",
      "Epoch [5/10], Step [2000/3750], Loss: 0.0245\n",
      "Epoch [5/10], Step [2400/3750], Loss: 0.0065\n",
      "Epoch [5/10], Step [2800/3750], Loss: 0.5158\n",
      "Epoch [5/10], Step [3200/3750], Loss: 0.4074\n",
      "Epoch [5/10], Step [3600/3750], Loss: 0.0416\n",
      "Epoch [6/10], Step [400/3750], Loss: 0.0211\n",
      "Epoch [6/10], Step [800/3750], Loss: 0.0148\n",
      "Epoch [6/10], Step [1200/3750], Loss: 0.0117\n",
      "Epoch [6/10], Step [1600/3750], Loss: 0.1119\n",
      "Epoch [6/10], Step [2000/3750], Loss: 0.0508\n",
      "Epoch [6/10], Step [2400/3750], Loss: 0.1801\n",
      "Epoch [6/10], Step [2800/3750], Loss: 0.0499\n",
      "Epoch [6/10], Step [3200/3750], Loss: 0.0152\n",
      "Epoch [6/10], Step [3600/3750], Loss: 0.0056\n",
      "Epoch [7/10], Step [400/3750], Loss: 0.0173\n",
      "Epoch [7/10], Step [800/3750], Loss: 0.0829\n",
      "Epoch [7/10], Step [1200/3750], Loss: 0.0990\n",
      "Epoch [7/10], Step [1600/3750], Loss: 0.0301\n",
      "Epoch [7/10], Step [2000/3750], Loss: 0.0322\n",
      "Epoch [7/10], Step [2400/3750], Loss: 0.0152\n",
      "Epoch [7/10], Step [2800/3750], Loss: 0.0093\n",
      "Epoch [7/10], Step [3200/3750], Loss: 0.0118\n",
      "Epoch [7/10], Step [3600/3750], Loss: 0.0946\n",
      "Epoch [8/10], Step [400/3750], Loss: 0.0211\n",
      "Epoch [8/10], Step [800/3750], Loss: 0.0060\n",
      "Epoch [8/10], Step [1200/3750], Loss: 0.0045\n",
      "Epoch [8/10], Step [1600/3750], Loss: 0.0065\n",
      "Epoch [8/10], Step [2000/3750], Loss: 0.0036\n",
      "Epoch [8/10], Step [2400/3750], Loss: 0.0125\n",
      "Epoch [8/10], Step [2800/3750], Loss: 0.1383\n",
      "Epoch [8/10], Step [3200/3750], Loss: 0.0049\n",
      "Epoch [8/10], Step [3600/3750], Loss: 0.4959\n",
      "Epoch [9/10], Step [400/3750], Loss: 0.0491\n",
      "Epoch [9/10], Step [800/3750], Loss: 0.2571\n",
      "Epoch [9/10], Step [1200/3750], Loss: 0.0285\n",
      "Epoch [9/10], Step [1600/3750], Loss: 0.0146\n",
      "Epoch [9/10], Step [2000/3750], Loss: 0.0172\n",
      "Epoch [9/10], Step [2400/3750], Loss: 0.0043\n",
      "Epoch [9/10], Step [2800/3750], Loss: 0.1881\n",
      "Epoch [9/10], Step [3200/3750], Loss: 0.0174\n",
      "Epoch [9/10], Step [3600/3750], Loss: 0.0103\n",
      "Epoch [10/10], Step [400/3750], Loss: 0.0165\n",
      "Epoch [10/10], Step [800/3750], Loss: 0.0452\n",
      "Epoch [10/10], Step [1200/3750], Loss: 0.1097\n",
      "Epoch [10/10], Step [1600/3750], Loss: 0.0682\n",
      "Epoch [10/10], Step [2000/3750], Loss: 0.0123\n",
      "Epoch [10/10], Step [2400/3750], Loss: 0.0673\n",
      "Epoch [10/10], Step [2800/3750], Loss: 0.0481\n",
      "Epoch [10/10], Step [3200/3750], Loss: 0.0116\n",
      "Epoch [10/10], Step [3600/3750], Loss: 0.0028\n"
     ]
    }
   ],
   "source": [
    "num_epochs = 10\n",
    "\n",
    "for epoch in range(num_epochs):\n",
    "    for i, (images, labels) in enumerate(train_dataloader):  \n",
    "        images = images.to(device)\n",
    "        labels = labels.to(device)\n",
    "        \n",
    "        #Forward pass\n",
    "        outputs = model(images)\n",
    "        loss = criterion(outputs, labels)\n",
    "        \t\n",
    "        # Backward and optimize\n",
    "        optimizer.zero_grad()\n",
    "        loss.backward()\n",
    "        optimizer.step()\n",
    "        \t\t\n",
    "        if (i+1) % 400 == 0:\n",
    "            print ('Epoch [{}/{}], Step [{}/{}], Loss: {:.4f}' \n",
    "        \t\t           .format(epoch+1, num_epochs, i+1, total_step, loss.item()))"
   ]
  },
  {
   "cell_type": "code",
   "execution_count": 33,
   "metadata": {},
   "outputs": [
    {
     "name": "stdout",
     "output_type": "stream",
     "text": [
      "Accuracy of the network on the 10000 test images: 98.48 %\n"
     ]
    }
   ],
   "source": [
    "# testing\n",
    "with torch.no_grad():\n",
    "    correct = 0\n",
    "    total = 0\n",
    "    for images, labels in test_dataloader:\n",
    "        images = images.to(device)\n",
    "        labels = labels.to(device)\n",
    "        outputs = model(images)\n",
    "        _, predicted = torch.max(outputs.data, 1)\n",
    "        total += labels.size(0)\n",
    "        correct += (predicted == labels).sum().item()\n",
    "\n",
    "    print('Accuracy of the network on the 10000 test images: {} %'.format(100 * correct / total))\n",
    "\n",
    "# Accuracy of the network on the 10000 test images: 98.39 %"
   ]
  }
 ],
 "metadata": {
  "kernelspec": {
   "display_name": "test",
   "language": "python",
   "name": "python3"
  },
  "language_info": {
   "codemirror_mode": {
    "name": "ipython",
    "version": 3
   },
   "file_extension": ".py",
   "mimetype": "text/x-python",
   "name": "python",
   "nbconvert_exporter": "python",
   "pygments_lexer": "ipython3",
   "version": "3.8.16"
  },
  "orig_nbformat": 4,
  "vscode": {
   "interpreter": {
    "hash": "8c845173cd1a23e3426ebe412f95a73bf3ad96ddb49f36dcaf094d81d2428ae6"
   }
  }
 },
 "nbformat": 4,
 "nbformat_minor": 2
}
